{
  "nbformat": 4,
  "nbformat_minor": 0,
  "metadata": {
    "colab": {
      "name": "ARCH and GARCH.ipynb",
      "provenance": [],
      "authorship_tag": "ABX9TyNiCf4oG7mvZf3NsMIP823B",
      "include_colab_link": true
    },
    "kernelspec": {
      "name": "python3",
      "display_name": "Python 3"
    },
    "language_info": {
      "name": "python"
    }
  },
  "cells": [
    {
      "cell_type": "markdown",
      "metadata": {
        "id": "view-in-github",
        "colab_type": "text"
      },
      "source": [
        "<a href=\"https://colab.research.google.com/github/ayoubbensakhria/ASTM-Checksum-CS/blob/master/ARCH_and_GARCH.ipynb\" target=\"_parent\"><img src=\"https://colab.research.google.com/assets/colab-badge.svg\" alt=\"Open In Colab\"/></a>"
      ]
    },
    {
      "cell_type": "markdown",
      "metadata": {
        "id": "uhl_hHdURs7C"
      },
      "source": [
        "# ARCH and GARCH models\n",
        "Autoregressive Conditional Heteroskedasticity, or ARCH, is a method that explicitly models the change in variance (volatility) over time in a time series.\n",
        "\n",
        "Generalized Autoregressive Conditional Heteroskedasticity, or GARCH, is an extension of the ARCH model that incorporates a moving average component together with the autoregressive component.\n",
        "\n",
        "ARCH(q): q: The number of lag variances to include in the ARCH model.\n",
        "GARCH(p,q): q: The number of lag residual errors to include in the GARCH model."
      ]
    },
    {
      "cell_type": "code",
      "metadata": {
        "id": "Qlg2b-QXHDjt"
      },
      "source": [
        "import math\n",
        "from time import time\n",
        "import pandas as pd\n",
        "import numpy as np\n",
        "import matplotlib.pyplot as plt\n",
        "from datetime import datetime, timedelta\n",
        "from statsmodels.graphics.tsaplots import plot_acf, plot_pacf\n",
        "from sklearn.model_selection import train_test_split\n",
        "from sklearn.metrics import mean_squared_error, mean_absolute_error\n",
        "import statsmodels.api as sm\n",
        "import warnings\n",
        "plt.style.use('fivethirtyeight')\n",
        "warnings.filterwarnings('ignore')\n",
        "%matplotlib inline"
      ],
      "execution_count": null,
      "outputs": []
    }
  ]
}